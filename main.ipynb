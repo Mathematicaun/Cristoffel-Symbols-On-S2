{
 "cells": [
  {
   "metadata": {},
   "cell_type": "markdown",
   "source": "# $$\\text{Simulation To The Cristoffel Symbols on a Smooth Manifold}$$",
   "id": "90d84de5925584a2"
  },
  {
   "metadata": {
    "ExecuteTime": {
     "end_time": "2024-12-08T19:59:34.140360Z",
     "start_time": "2024-12-08T19:59:28.100393Z"
    }
   },
   "cell_type": "code",
   "source": [
    "import matplotlib.pyplot as plt\n",
    "import cupy as cp\n",
    "# import numpy as cp\n",
    "from matplotlib.animation import FuncAnimation, FFMpegWriter"
   ],
   "id": "2d6249e88a9779f3",
   "outputs": [],
   "execution_count": 1
  },
  {
   "metadata": {
    "ExecuteTime": {
     "end_time": "2024-12-08T19:59:35.320178Z",
     "start_time": "2024-12-08T19:59:34.159954Z"
    }
   },
   "cell_type": "code",
   "source": [
    "i = cp.linspace(0, 1, 40)\n",
    "phi1, phi2 = cp.meshgrid(i, 2*i-1)"
   ],
   "id": "21dd9a4edaec1f96",
   "outputs": [],
   "execution_count": 2
  },
  {
   "metadata": {},
   "cell_type": "markdown",
   "source": "### $\\text{Defining the postion vector }R\\text{ on the manifold by parameters }(\\phi_{1}, \\phi_{2})\\text{ using }\\chi\\text{ along }x,\\text{ }\\psi\\text{ along }y,\\text{}\\text{ and }\\zeta\\text{ along }z$",
   "id": "d8584f6ecba420fc"
  },
  {
   "metadata": {
    "ExecuteTime": {
     "end_time": "2024-12-08T19:59:36.166335Z",
     "start_time": "2024-12-08T19:59:36.160100Z"
    }
   },
   "cell_type": "code",
   "source": [
    "r = 1\n",
    "def chi(a, b):\n",
    "    return cp.cos(2*cp.pi*a)*cp.sqrt(1-b**2)*r\n",
    "def psi(a, b):\n",
    "    return cp.sin(2*cp.pi*a)*cp.sqrt(1-b**2)*r\n",
    "def zet(a, b):\n",
    "    return r*b\n"
   ],
   "id": "754a7d02ecb36805",
   "outputs": [],
   "execution_count": 3
  },
  {
   "metadata": {},
   "cell_type": "markdown",
   "source": [
    "### $\\text{The basis vectors of the manifold }e_{\\phi1}\\text{ ,which the partial derivative of }R\\text{ with respect to }a$\n",
    "## $$e_{\\phi_{1}}=\\frac{\\partial}{\\partial\\phi_{1}}R$$"
   ],
   "id": "f852f5b7552ec4a4"
  },
  {
   "metadata": {
    "ExecuteTime": {
     "end_time": "2024-12-08T19:59:36.190414Z",
     "start_time": "2024-12-08T19:59:36.180234Z"
    }
   },
   "cell_type": "code",
   "source": [
    "# phi 1 direction\n",
    "def ephi1x(a, b):\n",
    "    return -2*cp.pi*cp.sin(2*cp.pi*a)*cp.sqrt(1-b**2)*r\n",
    "def ephi1y(a, b):\n",
    "    return 2*cp.pi*cp.cos(2*cp.pi*a)*cp.sqrt(1-b**2)*r\n",
    "def ephi1z(a, b):\n",
    "    return 0"
   ],
   "id": "94860e820e337b3a",
   "outputs": [],
   "execution_count": 4
  },
  {
   "metadata": {},
   "cell_type": "markdown",
   "source": [
    "### $\\text{The basis vectors of the manifold }e_{\\phi2}\\text{ ,which the partial derivative of }R\\text{ with respect to }a$\n",
    "## $$e_{\\phi_{2}}=\\frac{\\partial}{\\partial\\phi_{2}}R$$"
   ],
   "id": "fbaafb0e12ce03e0"
  },
  {
   "metadata": {
    "ExecuteTime": {
     "end_time": "2024-12-08T19:59:36.364876Z",
     "start_time": "2024-12-08T19:59:36.353579Z"
    }
   },
   "cell_type": "code",
   "source": [
    "# phi 2 direction\n",
    "def ephi2x(a, b):\n",
    "    return -2*b*cp.cos(2*cp.pi*a)*1/cp.sqrt(1-b**2)*r\n",
    "def ephi2y(a, b):\n",
    "    return -2*b*cp.sin(2*cp.pi*a)*1/cp.sqrt(1-b**2)*r\n",
    "def ephi2z(a, b):\n",
    "    return r"
   ],
   "id": "1955bae30d61d1c",
   "outputs": [],
   "execution_count": 5
  },
  {
   "metadata": {},
   "cell_type": "markdown",
   "source": [
    "## $\\text{Simulation for the changing of the basis vectors of the manifold with respect to each others}$\n",
    "## $$\\{\\frac{\\partial e_{\\phi_{1}}}{\\partial\\phi_{1}}\\text{, }\\frac{\\partial e_{\\phi_{1}}}{\\partial\\phi_{2}}\\}$$\n",
    "## $$\\{\\frac{\\partial e_{\\phi_{2}}}{\\partial\\phi_{1}}\\text{, }\\frac{\\partial e_{\\phi_{2}}}{\\partial\\phi_{2}}\\}$$"
   ],
   "id": "3158f895eca7d5df"
  },
  {
   "metadata": {
    "ExecuteTime": {
     "end_time": "2024-12-08T21:21:34.230314Z",
     "start_time": "2024-12-08T21:21:34.058506Z"
    }
   },
   "cell_type": "code",
   "source": [
    "%matplotlib tk\n",
    "plt.rcParams['text.usetex'] = True\n",
    "fig = plt.figure()\n",
    "ax = fig.add_subplot(aspect='equal', projection='3d')\n",
    "fig.set_facecolor('black')\n",
    "ax.set_facecolor('black')\n",
    "ax.tick_params(color='white', labelcolor='white')\n",
    "M = cp.sqrt(ephi1x(phi1, phi2)**2 + ephi1y(phi1, phi2)**2 + ephi1z(phi1, phi2)**2)\n",
    "ax.set_xlabel('$\\chi$', color='white', size=18)\n",
    "ax.set_ylabel('$\\psi$', color='white', size=18)\n",
    "ax.set_zlabel('$\\zeta$', color='white', size=18)\n",
    "def update(t):\n",
    "    # m = cp.sqrt(ephi1x(0, t)**2 + ephi1y(0, t)**2 + ephi1z(0, t)**2)\n",
    "    m = 1\n",
    "    ax.clear()\n",
    "    ax.text(2, 1.5, 2.4, '$e_{\\phi_{1}}$', color='red', size=20)\n",
    "    ax.text(-1.5, .7, 1, '$e_{\\phi_{2}}$', color='blue', size=20)\n",
    "    ax.axis('off')\n",
    "    ax.set(xlim=[-.8, .8], ylim=[-.8, .8], zlim=[-.8, .8])\n",
    "    # ax.view_init(elev=26, azim=30)\n",
    "    ax.plot_wireframe(cp.asnumpy(chi(phi1, phi2)), cp.asnumpy(psi(phi1, phi2)), cp.asnumpy(zet(phi1, phi2)), color='purple', linewidth=.2)\n",
    "    \n",
    "    ax.quiver(cp.asnumpy(chi(t, 0)), cp.asnumpy(psi(t, 0)), cp.asnumpy(zet(t, 0)), cp.asnumpy(ephi1x(t, 0)/m), cp.asnumpy(ephi1y(t, 0)/m), cp.asnumpy(ephi1z(t, 0)/m), linewidth=1, arrow_length_ratio=.05, color='red')#\\Gamma_{\\phi_{1}\\phi_{1}}\n",
    "    \n",
    "    ax.quiver(cp.asnumpy(chi(0, t)), cp.asnumpy(psi(0, t)), cp.asnumpy(zet(0, t)), cp.asnumpy(ephi1x(0, t)/m), cp.asnumpy(ephi1y(0, t)/m), cp.asnumpy(ephi1z(0, t)/m), linewidth=1, arrow_length_ratio=.05, color='red')# \\Gamma_{\\phi_{1}\\phi_{2}}\n",
    "\n",
    "    ax.quiver(cp.asnumpy(chi(0, t)), cp.asnumpy(psi(0, t)), cp.asnumpy(zet(0, t)), cp.asnumpy(ephi2x(0, t)/m), cp.asnumpy(ephi2y(0, t)/m), cp.asnumpy(ephi2z(0, t)/m), linewidth=1, arrow_length_ratio=.05, color='blue')#\\Gamma_{\\phi_{2}\\phi_{2}}\n",
    "\n",
    "    ax.quiver(cp.asnumpy(chi(t, 0)), cp.asnumpy(psi(t, 0)), cp.asnumpy(zet(t, 0)), cp.asnumpy(ephi2x(t, 0)/m), cp.asnumpy(ephi2y(t, 0)/m), cp.asnumpy(ephi2z(t, 0)/m), linewidth=1, arrow_length_ratio=.05, color='blue')#\\Gamma_{\\phi_{2}\\phi_{1}}\n",
    "\n",
    "    ax.scatter(cp.asnumpy(chi(t, 0)), cp.asnumpy(psi(t, 0)), cp.asnumpy(zet(t, 0)), color='yellow', s=5)\n",
    "    ax.scatter(cp.asnumpy(chi(0, t)), cp.asnumpy(psi(0, t)), cp.asnumpy(zet(0, t)), color='yellow', s=5)\n",
    "\n",
    "video = FuncAnimation(fig, update, cp.linspace(0, 1, 100), blit=False, repeat=False, interval=100)\n",
    "# Writer = FFMpegWriter(fps=20, bitrate=5000, metadata={'title': 'Christoffel Symbols', 'artist': 'a.zahran'})\n",
    "# video.save('simulation.mp4', writer=Writer, dpi=600)"
   ],
   "id": "d0fd3e1a82816559",
   "outputs": [
    {
     "name": "stderr",
     "output_type": "stream",
     "text": [
      "<>:9: SyntaxWarning: invalid escape sequence '\\c'\n",
      "<>:10: SyntaxWarning: invalid escape sequence '\\p'\n",
      "<>:11: SyntaxWarning: invalid escape sequence '\\z'\n",
      "<>:16: SyntaxWarning: invalid escape sequence '\\p'\n",
      "<>:17: SyntaxWarning: invalid escape sequence '\\p'\n",
      "<>:9: SyntaxWarning: invalid escape sequence '\\c'\n",
      "<>:10: SyntaxWarning: invalid escape sequence '\\p'\n",
      "<>:11: SyntaxWarning: invalid escape sequence '\\z'\n",
      "<>:16: SyntaxWarning: invalid escape sequence '\\p'\n",
      "<>:17: SyntaxWarning: invalid escape sequence '\\p'\n",
      "C:\\Users\\Mathematicaun\\AppData\\Local\\Temp\\ipykernel_13696\\1907422603.py:9: SyntaxWarning: invalid escape sequence '\\c'\n",
      "  ax.set_xlabel('$\\chi$', color='white', size=18)\n",
      "C:\\Users\\Mathematicaun\\AppData\\Local\\Temp\\ipykernel_13696\\1907422603.py:10: SyntaxWarning: invalid escape sequence '\\p'\n",
      "  ax.set_ylabel('$\\psi$', color='white', size=18)\n",
      "C:\\Users\\Mathematicaun\\AppData\\Local\\Temp\\ipykernel_13696\\1907422603.py:11: SyntaxWarning: invalid escape sequence '\\z'\n",
      "  ax.set_zlabel('$\\zeta$', color='white', size=18)\n",
      "C:\\Users\\Mathematicaun\\AppData\\Local\\Temp\\ipykernel_13696\\1907422603.py:16: SyntaxWarning: invalid escape sequence '\\p'\n",
      "  ax.text(2, 1.5, 2.4, '$e_{\\phi_{1}}$', color='red', size=20)\n",
      "C:\\Users\\Mathematicaun\\AppData\\Local\\Temp\\ipykernel_13696\\1907422603.py:17: SyntaxWarning: invalid escape sequence '\\p'\n",
      "  ax.text(-1.5, .7, 1, '$e_{\\phi_{2}}$', color='blue', size=20)\n"
     ]
    }
   ],
   "execution_count": 10
  }
 ],
 "metadata": {
  "kernelspec": {
   "display_name": "Python 3",
   "language": "python",
   "name": "python3"
  },
  "language_info": {
   "codemirror_mode": {
    "name": "ipython",
    "version": 2
   },
   "file_extension": ".py",
   "mimetype": "text/x-python",
   "name": "python",
   "nbconvert_exporter": "python",
   "pygments_lexer": "ipython2",
   "version": "2.7.6"
  }
 },
 "nbformat": 4,
 "nbformat_minor": 5
}
